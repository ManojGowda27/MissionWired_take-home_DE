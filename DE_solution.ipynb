{
 "cells": [
  {
   "cell_type": "markdown",
   "metadata": {},
   "source": [
    "### Set Up PySpark Environment"
   ]
  },
  {
   "cell_type": "code",
   "execution_count": 1,
   "metadata": {},
   "outputs": [
    {
     "name": "stdout",
     "output_type": "stream",
     "text": [
      "Collecting pyspark\n",
      "  Using cached pyspark-3.5.3.tar.gz (317.3 MB)\n",
      "  Preparing metadata (setup.py) ... \u001b[?25ldone\n",
      "\u001b[?25hCollecting py4j==0.10.9.7 (from pyspark)\n",
      "  Using cached py4j-0.10.9.7-py2.py3-none-any.whl.metadata (1.5 kB)\n",
      "Using cached py4j-0.10.9.7-py2.py3-none-any.whl (200 kB)\n",
      "Building wheels for collected packages: pyspark\n",
      "  Building wheel for pyspark (setup.py) ... \u001b[?25ldone\n",
      "\u001b[?25h  Created wheel for pyspark: filename=pyspark-3.5.3-py2.py3-none-any.whl size=317840633 sha256=396b324792d97b07437cabe0fccf16ba388aa943de89639881e8ee93ad0826c8\n",
      "  Stored in directory: /Users/manojgowdavenkatachalamurthy/Library/Caches/pip/wheels/97/f5/c0/947e2c0942b361ffe58651f36bd7f13772675b3863fd63d1b1\n",
      "Successfully built pyspark\n",
      "Installing collected packages: py4j, pyspark\n",
      "Successfully installed py4j-0.10.9.7 pyspark-3.5.3\n"
     ]
    }
   ],
   "source": [
    "!pip install pyspark"
   ]
  },
  {
   "cell_type": "code",
   "execution_count": 1,
   "metadata": {},
   "outputs": [
    {
     "name": "stderr",
     "output_type": "stream",
     "text": [
      "24/10/11 11:39:31 WARN Utils: Your hostname, MANOJs-MacBook-Air.local resolves to a loopback address: 127.0.0.1; using 10.0.0.130 instead (on interface en0)\n",
      "24/10/11 11:39:31 WARN Utils: Set SPARK_LOCAL_IP if you need to bind to another address\n",
      "Setting default log level to \"WARN\".\n",
      "To adjust logging level use sc.setLogLevel(newLevel). For SparkR, use setLogLevel(newLevel).\n",
      "24/10/11 11:39:32 WARN NativeCodeLoader: Unable to load native-hadoop library for your platform... using builtin-java classes where applicable\n"
     ]
    }
   ],
   "source": [
    "# Initializing Spark session\n",
    "from pyspark.sql import SparkSession\n",
    "from pyspark.sql.functions import date_format, col, to_date, substring\n",
    "\n",
    "# Creating a Spark session\n",
    "spark = SparkSession.builder\\\n",
    "        .appName(\"MissionWired_DE_Excercise\")\\\n",
    "        .getOrCreate()"
   ]
  },
  {
   "cell_type": "markdown",
   "metadata": {},
   "source": [
    "### Loading Data"
   ]
  },
  {
   "cell_type": "code",
   "execution_count": 2,
   "metadata": {},
   "outputs": [
    {
     "ename": "UnsupportedOperationException",
     "evalue": "None",
     "output_type": "error",
     "traceback": [
      "\u001b[0;31m---------------------------------------------------------------------------\u001b[0m",
      "\u001b[0;31mUnsupportedOperationException\u001b[0m             Traceback (most recent call last)",
      "Cell \u001b[0;32mIn[2], line 2\u001b[0m\n\u001b[1;32m      1\u001b[0m \u001b[38;5;66;03m# Loading datasets using Spark\u001b[39;00m\n\u001b[0;32m----> 2\u001b[0m cons_df \u001b[38;5;241m=\u001b[39m spark\u001b[38;5;241m.\u001b[39mread\u001b[38;5;241m.\u001b[39mcsv(\u001b[38;5;124m'\u001b[39m\u001b[38;5;124mhttps://als-hiring.s3.amazonaws.com/fake_data/2020-07-01_17\u001b[39m\u001b[38;5;124m%\u001b[39m\u001b[38;5;124m3A11\u001b[39m\u001b[38;5;124m%\u001b[39m\u001b[38;5;124m3A00/cons.csv\u001b[39m\u001b[38;5;124m'\u001b[39m, header\u001b[38;5;241m=\u001b[39m\u001b[38;5;28;01mTrue\u001b[39;00m, inferSchema\u001b[38;5;241m=\u001b[39m\u001b[38;5;28;01mTrue\u001b[39;00m)\n\u001b[1;32m      4\u001b[0m \u001b[38;5;66;03m# Extract just the date part (yyyy-MM-dd) from the custom format (e.g., 'Mon, 2021-01-01 10:00:00')\u001b[39;00m\n\u001b[1;32m      5\u001b[0m \u001b[38;5;66;03m# We are extracting characters from index 6 to 15 to get the date in 'yyyy-MM-dd' format\u001b[39;00m\n\u001b[1;32m      6\u001b[0m cons_df \u001b[38;5;241m=\u001b[39m cons_df\u001b[38;5;241m.\u001b[39mwithColumn(\u001b[38;5;124m'\u001b[39m\u001b[38;5;124mcreate_dt\u001b[39m\u001b[38;5;124m'\u001b[39m, substring(\u001b[38;5;124m'\u001b[39m\u001b[38;5;124mcreate_dt\u001b[39m\u001b[38;5;124m'\u001b[39m, \u001b[38;5;241m6\u001b[39m, \u001b[38;5;241m10\u001b[39m))\n",
      "File \u001b[0;32m~/anaconda3/lib/python3.11/site-packages/pyspark/sql/readwriter.py:740\u001b[0m, in \u001b[0;36mDataFrameReader.csv\u001b[0;34m(self, path, schema, sep, encoding, quote, escape, comment, header, inferSchema, ignoreLeadingWhiteSpace, ignoreTrailingWhiteSpace, nullValue, nanValue, positiveInf, negativeInf, dateFormat, timestampFormat, maxColumns, maxCharsPerColumn, maxMalformedLogPerPartition, mode, columnNameOfCorruptRecord, multiLine, charToEscapeQuoteEscaping, samplingRatio, enforceSchema, emptyValue, locale, lineSep, pathGlobFilter, recursiveFileLookup, modifiedBefore, modifiedAfter, unescapedQuoteHandling)\u001b[0m\n\u001b[1;32m    738\u001b[0m \u001b[38;5;28;01mif\u001b[39;00m \u001b[38;5;28mtype\u001b[39m(path) \u001b[38;5;241m==\u001b[39m \u001b[38;5;28mlist\u001b[39m:\n\u001b[1;32m    739\u001b[0m     \u001b[38;5;28;01massert\u001b[39;00m \u001b[38;5;28mself\u001b[39m\u001b[38;5;241m.\u001b[39m_spark\u001b[38;5;241m.\u001b[39m_sc\u001b[38;5;241m.\u001b[39m_jvm \u001b[38;5;129;01mis\u001b[39;00m \u001b[38;5;129;01mnot\u001b[39;00m \u001b[38;5;28;01mNone\u001b[39;00m\n\u001b[0;32m--> 740\u001b[0m     \u001b[38;5;28;01mreturn\u001b[39;00m \u001b[38;5;28mself\u001b[39m\u001b[38;5;241m.\u001b[39m_df(\u001b[38;5;28mself\u001b[39m\u001b[38;5;241m.\u001b[39m_jreader\u001b[38;5;241m.\u001b[39mcsv(\u001b[38;5;28mself\u001b[39m\u001b[38;5;241m.\u001b[39m_spark\u001b[38;5;241m.\u001b[39m_sc\u001b[38;5;241m.\u001b[39m_jvm\u001b[38;5;241m.\u001b[39mPythonUtils\u001b[38;5;241m.\u001b[39mtoSeq(path)))\n\u001b[1;32m    741\u001b[0m \u001b[38;5;28;01melif\u001b[39;00m \u001b[38;5;28misinstance\u001b[39m(path, RDD):\n\u001b[1;32m    743\u001b[0m     \u001b[38;5;28;01mdef\u001b[39;00m \u001b[38;5;21mfunc\u001b[39m(iterator):\n",
      "File \u001b[0;32m~/anaconda3/lib/python3.11/site-packages/py4j/java_gateway.py:1322\u001b[0m, in \u001b[0;36mJavaMember.__call__\u001b[0;34m(self, *args)\u001b[0m\n\u001b[1;32m   1316\u001b[0m command \u001b[38;5;241m=\u001b[39m proto\u001b[38;5;241m.\u001b[39mCALL_COMMAND_NAME \u001b[38;5;241m+\u001b[39m\\\n\u001b[1;32m   1317\u001b[0m     \u001b[38;5;28mself\u001b[39m\u001b[38;5;241m.\u001b[39mcommand_header \u001b[38;5;241m+\u001b[39m\\\n\u001b[1;32m   1318\u001b[0m     args_command \u001b[38;5;241m+\u001b[39m\\\n\u001b[1;32m   1319\u001b[0m     proto\u001b[38;5;241m.\u001b[39mEND_COMMAND_PART\n\u001b[1;32m   1321\u001b[0m answer \u001b[38;5;241m=\u001b[39m \u001b[38;5;28mself\u001b[39m\u001b[38;5;241m.\u001b[39mgateway_client\u001b[38;5;241m.\u001b[39msend_command(command)\n\u001b[0;32m-> 1322\u001b[0m return_value \u001b[38;5;241m=\u001b[39m get_return_value(\n\u001b[1;32m   1323\u001b[0m     answer, \u001b[38;5;28mself\u001b[39m\u001b[38;5;241m.\u001b[39mgateway_client, \u001b[38;5;28mself\u001b[39m\u001b[38;5;241m.\u001b[39mtarget_id, \u001b[38;5;28mself\u001b[39m\u001b[38;5;241m.\u001b[39mname)\n\u001b[1;32m   1325\u001b[0m \u001b[38;5;28;01mfor\u001b[39;00m temp_arg \u001b[38;5;129;01min\u001b[39;00m temp_args:\n\u001b[1;32m   1326\u001b[0m     \u001b[38;5;28;01mif\u001b[39;00m \u001b[38;5;28mhasattr\u001b[39m(temp_arg, \u001b[38;5;124m\"\u001b[39m\u001b[38;5;124m_detach\u001b[39m\u001b[38;5;124m\"\u001b[39m):\n",
      "File \u001b[0;32m~/anaconda3/lib/python3.11/site-packages/pyspark/errors/exceptions/captured.py:185\u001b[0m, in \u001b[0;36mcapture_sql_exception.<locals>.deco\u001b[0;34m(*a, **kw)\u001b[0m\n\u001b[1;32m    181\u001b[0m converted \u001b[38;5;241m=\u001b[39m convert_exception(e\u001b[38;5;241m.\u001b[39mjava_exception)\n\u001b[1;32m    182\u001b[0m \u001b[38;5;28;01mif\u001b[39;00m \u001b[38;5;129;01mnot\u001b[39;00m \u001b[38;5;28misinstance\u001b[39m(converted, UnknownException):\n\u001b[1;32m    183\u001b[0m     \u001b[38;5;66;03m# Hide where the exception came from that shows a non-Pythonic\u001b[39;00m\n\u001b[1;32m    184\u001b[0m     \u001b[38;5;66;03m# JVM exception message.\u001b[39;00m\n\u001b[0;32m--> 185\u001b[0m     \u001b[38;5;28;01mraise\u001b[39;00m converted \u001b[38;5;28;01mfrom\u001b[39;00m \u001b[38;5;28;01mNone\u001b[39;00m\n\u001b[1;32m    186\u001b[0m \u001b[38;5;28;01melse\u001b[39;00m:\n\u001b[1;32m    187\u001b[0m     \u001b[38;5;28;01mraise\u001b[39;00m\n",
      "\u001b[0;31mUnsupportedOperationException\u001b[0m: None"
     ]
    }
   ],
   "source": [
    "# Loading datasets using Spark\n",
    "cons_df = spark.read.csv('./Raw_Data/cons.csv', header=True, inferSchema=True)\n",
    "\n",
    "# Extract just the date part (yyyy-MM-dd) from the custom format (e.g., 'Mon, 2021-01-01 10:00:00')\n",
    "# We are extracting characters from index 6 to 15 to get the date in 'yyyy-MM-dd' format\n",
    "cons_df = cons_df.withColumn('create_dt', substring('create_dt', 6, 10))\n",
    "\n",
    "# Convert 'create_dt' to date type after extracting the relevant portion\n",
    "cons_df = cons_df.withColumn('create_dt', to_date(col('create_dt'), 'yyyy-MM-dd'))\n",
    "\n",
    "# Similarly for 'modified_dt' if needed\n",
    "cons_df = cons_df.withColumn('modified_dt', substring('modified_dt', 6, 10))\n",
    "cons_df = cons_df.withColumn('modified_dt', to_date(col('modified_dt'), 'yyyy-MM-dd'))\n",
    "\n",
    "# Check if the conversion worked correctly\n",
    "cons_df.printSchema()\n",
    "cons_df.show(5)\n",
    "email_df = spark.read.csv('./Raw_Data/cons_email.csv', header=True, inferSchema=True)\n",
    "subscription_df = spark.read.csv('./Raw_Data/cons_email_chapter_subscription.csv', header=True, inferSchema=True)\n",
    "\n",
    "# Displaying first few rows of each dataframe\n",
    "cons_df.show(5)\n",
    "email_df.show(5)\n",
    "subscription_df.show(5)"
   ]
  },
  {
   "cell_type": "markdown",
   "metadata": {},
   "source": [
    "### Data Preprocessing"
   ]
  },
  {
   "cell_type": "markdown",
   "metadata": {},
   "source": [
    "### Excercise 1"
   ]
  },
  {
   "cell_type": "code",
   "execution_count": 31,
   "metadata": {},
   "outputs": [
    {
     "name": "stdout",
     "output_type": "stream",
     "text": [
      "root\n",
      " |-- email: string (nullable = true)\n",
      " |-- code: string (nullable = true)\n",
      " |-- is_unsub: boolean (nullable = false)\n",
      " |-- created_dt: date (nullable = true)\n",
      " |-- updated_dt: date (nullable = true)\n",
      "\n"
     ]
    },
    {
     "name": "stderr",
     "output_type": "stream",
     "text": [
      "                                                                                \r"
     ]
    }
   ],
   "source": [
    "# Filter subscription status for chapter_id = 1\n",
    "subscription_df = subscription_df.filter(subscription_df.chapter_id == 1)\n",
    "\n",
    "# Join email and subscription data on 'cons_email_id'\n",
    "merged_df = email_df.join(subscription_df, on='cons_email_id', how='left')\n",
    "\n",
    "# Fill null values in 'isunsub' with 0 (indicating they are still subscribed)\n",
    "merged_df = merged_df.fillna({'isunsub': 0})\n",
    "\n",
    "# Filter for primary emails (where 'is_primary' == 1)\n",
    "primary_emails = merged_df.filter(merged_df.is_primary == 1)\n",
    "\n",
    "# Join with cons_df on 'cons_id' and rename ambiguous columns\n",
    "people_df = primary_emails.join(\n",
    "    cons_df.withColumnRenamed('create_dt', 'cons_create_dt').withColumnRenamed('modified_dt', 'cons_modified_dt'), \n",
    "    on='cons_id', \n",
    "    how='inner'\n",
    ")\n",
    "\n",
    "# Convert 'cons_create_dt' and 'cons_modified_dt' to date format\n",
    "people_df = people_df.withColumn('created_dt', to_date(people_df['cons_create_dt'], 'yyyy-MM-dd'))\n",
    "people_df = people_df.withColumn('updated_dt', to_date(people_df['cons_modified_dt'], 'yyyy-MM-dd'))\n",
    "\n",
    "# Select the necessary columns for the 'people' file:\n",
    "people_df = people_df.select(\n",
    "    'email', \n",
    "    col('source').alias('code'),  # Correct the alias for source\n",
    "    col('isunsub').cast('boolean').alias('is_unsub'),  # Ensure isunsub is referenced correctly and cast to boolean\n",
    "    'created_dt', \n",
    "    'updated_dt'\n",
    ")\n",
    "\n",
    "# Check if the conversion worked correctly\n",
    "people_df.printSchema()\n",
    "\n",
    "# Save the people file to CSV\n",
    "people_df.write.csv('./Output/people', header=True)\n"
   ]
  },
  {
   "cell_type": "markdown",
   "metadata": {},
   "source": [
    "### Excercise 2"
   ]
  },
  {
   "cell_type": "code",
   "execution_count": 32,
   "metadata": {},
   "outputs": [
    {
     "name": "stderr",
     "output_type": "stream",
     "text": [
      "                                                                                \r"
     ]
    }
   ],
   "source": [
    "# Group by acquisition date (using 'created_dt') and count the number of acquisitions\n",
    "acquisition_facts_df = people_df.groupBy(date_format('created_dt', 'yyyy-MM-dd').alias('acquisition_date')) \\\n",
    "    .count().alias('acquisitions')\n",
    "\n",
    "# Save the acquisition facts to CSV\n",
    "acquisition_facts_df.write.csv('Output/acquisition_facts', header=True)"
   ]
  },
  {
   "cell_type": "code",
   "execution_count": 33,
   "metadata": {},
   "outputs": [],
   "source": [
    "# Stop the Spark session\n",
    "spark.stop() "
   ]
  }
 ],
 "metadata": {
  "kernelspec": {
   "display_name": "base",
   "language": "python",
   "name": "python3"
  },
  "language_info": {
   "codemirror_mode": {
    "name": "ipython",
    "version": 3
   },
   "file_extension": ".py",
   "mimetype": "text/x-python",
   "name": "python",
   "nbconvert_exporter": "python",
   "pygments_lexer": "ipython3",
   "version": "3.11.5"
  }
 },
 "nbformat": 4,
 "nbformat_minor": 2
}
