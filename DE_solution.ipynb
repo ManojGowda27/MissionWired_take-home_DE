{
 "cells": [
  {
   "cell_type": "markdown",
   "metadata": {},
   "source": [
    "### Set Up PySpark Environment"
   ]
  },
  {
   "cell_type": "code",
   "execution_count": 1,
   "metadata": {},
   "outputs": [
    {
     "name": "stdout",
     "output_type": "stream",
     "text": [
      "Collecting pyspark\n",
      "  Using cached pyspark-3.5.3.tar.gz (317.3 MB)\n",
      "  Preparing metadata (setup.py) ... \u001b[?25ldone\n",
      "\u001b[?25hCollecting py4j==0.10.9.7 (from pyspark)\n",
      "  Using cached py4j-0.10.9.7-py2.py3-none-any.whl.metadata (1.5 kB)\n",
      "Using cached py4j-0.10.9.7-py2.py3-none-any.whl (200 kB)\n",
      "Building wheels for collected packages: pyspark\n",
      "  Building wheel for pyspark (setup.py) ... \u001b[?25ldone\n",
      "\u001b[?25h  Created wheel for pyspark: filename=pyspark-3.5.3-py2.py3-none-any.whl size=317840633 sha256=396b324792d97b07437cabe0fccf16ba388aa943de89639881e8ee93ad0826c8\n",
      "  Stored in directory: /Users/manojgowdavenkatachalamurthy/Library/Caches/pip/wheels/97/f5/c0/947e2c0942b361ffe58651f36bd7f13772675b3863fd63d1b1\n",
      "Successfully built pyspark\n",
      "Installing collected packages: py4j, pyspark\n",
      "Successfully installed py4j-0.10.9.7 pyspark-3.5.3\n"
     ]
    }
   ],
   "source": [
    "!pip install pyspark"
   ]
  },
  {
   "cell_type": "code",
   "execution_count": 1,
   "metadata": {},
   "outputs": [
    {
     "name": "stderr",
     "output_type": "stream",
     "text": [
      "24/10/11 11:39:31 WARN Utils: Your hostname, MANOJs-MacBook-Air.local resolves to a loopback address: 127.0.0.1; using 10.0.0.130 instead (on interface en0)\n",
      "24/10/11 11:39:31 WARN Utils: Set SPARK_LOCAL_IP if you need to bind to another address\n",
      "Setting default log level to \"WARN\".\n",
      "To adjust logging level use sc.setLogLevel(newLevel). For SparkR, use setLogLevel(newLevel).\n",
      "24/10/11 11:39:32 WARN NativeCodeLoader: Unable to load native-hadoop library for your platform... using builtin-java classes where applicable\n"
     ]
    }
   ],
   "source": [
    "# Initializing Spark session\n",
    "from pyspark.sql import SparkSession\n",
    "from pyspark.sql.functions import date_format, col, to_date, substring\n",
    "\n",
    "# Creating a Spark session\n",
    "spark = SparkSession.builder\\\n",
    "        .appName(\"MissionWired_DE_Excercise\")\\\n",
    "        .getOrCreate()"
   ]
  },
  {
   "cell_type": "markdown",
   "metadata": {},
   "source": [
    "### Loading Data"
   ]
  },
  {
   "cell_type": "code",
   "execution_count": 4,
   "metadata": {},
   "outputs": [
    {
     "name": "stderr",
     "output_type": "stream",
     "text": [
      "                                                                                \r"
     ]
    },
    {
     "name": "stdout",
     "output_type": "stream",
     "text": [
      "root\n",
      " |-- cons_id: integer (nullable = true)\n",
      " |-- prefix: string (nullable = true)\n",
      " |-- firstname: string (nullable = true)\n",
      " |-- middlename: string (nullable = true)\n",
      " |-- lastname: string (nullable = true)\n",
      " |-- suffix: string (nullable = true)\n",
      " |-- salutation: string (nullable = true)\n",
      " |-- gender: string (nullable = true)\n",
      " |-- birth_dt: string (nullable = true)\n",
      " |-- title: string (nullable = true)\n",
      " |-- employer: string (nullable = true)\n",
      " |-- occupation: string (nullable = true)\n",
      " |-- income: double (nullable = true)\n",
      " |-- source: string (nullable = true)\n",
      " |-- subsource: string (nullable = true)\n",
      " |-- userid: integer (nullable = true)\n",
      " |-- password: string (nullable = true)\n",
      " |-- is_validated: integer (nullable = true)\n",
      " |-- is_banned: integer (nullable = true)\n",
      " |-- change_password_next_login: integer (nullable = true)\n",
      " |-- consent_type_id: integer (nullable = true)\n",
      " |-- create_dt: date (nullable = true)\n",
      " |-- create_app: integer (nullable = true)\n",
      " |-- create_user: integer (nullable = true)\n",
      " |-- modified_dt: date (nullable = true)\n",
      " |-- modified_app: integer (nullable = true)\n",
      " |-- modified_user: integer (nullable = true)\n",
      " |-- status: integer (nullable = true)\n",
      " |-- note: string (nullable = true)\n",
      "\n",
      "+-------+------+---------+----------+--------+------+--------------------+------+---------------+--------------------+--------------------+--------------------+-------------------+--------+--------------------+------+----------+------------+---------+--------------------------+---------------+----------+----------+-----------+-----------+------------+-------------+------+----+\n",
      "|cons_id|prefix|firstname|middlename|lastname|suffix|          salutation|gender|       birth_dt|               title|            employer|          occupation|             income|  source|           subsource|userid|  password|is_validated|is_banned|change_password_next_login|consent_type_id| create_dt|create_app|create_user|modified_dt|modified_app|modified_user|status|note|\n",
      "+-------+------+---------+----------+--------+------+--------------------+------+---------------+--------------------+--------------------+--------------------+-------------------+--------+--------------------+------+----------+------------+---------+--------------------------+---------------+----------+----------+-----------+-----------+------------+-------------+------+----+\n",
      "|      1|  NULL|     NULL|       Lee|    NULL|    MD|                NULL|     E|           NULL|vSkSIzEQJdXnqeTTTXSG|                NULL|                NULL|2.97160634207735E10|  google|                NULL|  3663|_kXcXaoK7i|           1|        0|                         0|           5958|1983-08-26|      1484|       6162| 2015-12-27|        4022|         6349|     1|NULL|\n",
      "|      2|  NULL|     NULL|      NULL|    NULL|    II|boFqBKgLlSgEZsFrgCZd|     E|Mon, 2004-11-15|                NULL|                NULL|                NULL|           671.7468|facebook|pRzBAZSGNScwCyreCEYr|  7125|Ll3ZUxnh*9|           0|        0|                         1|           4236|1979-03-05|      4176|       5476| 1989-06-20|        9010|         5698|     1|NULL|\n",
      "|      3|  NULL|     NULL|     David|    King|  NULL|                NULL|     D|Fri, 1994-04-08|bxGxufoNzpKvjwNIxgRj|iPUtgXtqIBEaxQxaMMsr|                NULL|               NULL|    NULL|UAWXnALxxBXmwbPibFdw|  5202|&@sU8IaE+L|           1|        0|                         1|           1263|2008-08-22|      4702|       8239| 2020-06-05|        8837|         1175|     1|NULL|\n",
      "|      4|   Ms.|     Mark|     Gregg|    NULL|  NULL|                NULL|     J|           NULL|                NULL|pFxPMIlwpLmWhylhVPlq|                NULL|  8.2333244765424E9|  google|                NULL|  1591|5vVPwqxK)g|           0|        0|                         0|            949|1984-04-29|      7096|       7875| 2012-01-31|        7529|         3984|     1|NULL|\n",
      "|      5|  NULL|     NULL|     Logan|    NULL|   DDS|ArvPJuEozHPaqbirovMi|     D|Sun, 2008-08-10|kXKlKCyCBoXUBVejPOVO|                NULL|QpESbZrLQlRIjKabyAKb|               NULL|    NULL|                NULL|  4578|S%3cXL#sKt|           1|        0|                         0|           7126|2007-07-19|       706|       5727| 1971-04-27|        9356|         6062|     1|NULL|\n",
      "+-------+------+---------+----------+--------+------+--------------------+------+---------------+--------------------+--------------------+--------------------+-------------------+--------+--------------------+------+----------+------------+---------+--------------------------+---------------+----------+----------+-----------+-----------+------------+-------------+------+----+\n",
      "only showing top 5 rows\n",
      "\n"
     ]
    },
    {
     "name": "stderr",
     "output_type": "stream",
     "text": [
      "                                                                                \r"
     ]
    },
    {
     "name": "stdout",
     "output_type": "stream",
     "text": [
      "+-------+------+---------+----------+--------+------+--------------------+------+---------------+--------------------+--------------------+--------------------+-------------------+--------+--------------------+------+----------+------------+---------+--------------------------+---------------+----------+----------+-----------+-----------+------------+-------------+------+----+\n",
      "|cons_id|prefix|firstname|middlename|lastname|suffix|          salutation|gender|       birth_dt|               title|            employer|          occupation|             income|  source|           subsource|userid|  password|is_validated|is_banned|change_password_next_login|consent_type_id| create_dt|create_app|create_user|modified_dt|modified_app|modified_user|status|note|\n",
      "+-------+------+---------+----------+--------+------+--------------------+------+---------------+--------------------+--------------------+--------------------+-------------------+--------+--------------------+------+----------+------------+---------+--------------------------+---------------+----------+----------+-----------+-----------+------------+-------------+------+----+\n",
      "|      1|  NULL|     NULL|       Lee|    NULL|    MD|                NULL|     E|           NULL|vSkSIzEQJdXnqeTTTXSG|                NULL|                NULL|2.97160634207735E10|  google|                NULL|  3663|_kXcXaoK7i|           1|        0|                         0|           5958|1983-08-26|      1484|       6162| 2015-12-27|        4022|         6349|     1|NULL|\n",
      "|      2|  NULL|     NULL|      NULL|    NULL|    II|boFqBKgLlSgEZsFrgCZd|     E|Mon, 2004-11-15|                NULL|                NULL|                NULL|           671.7468|facebook|pRzBAZSGNScwCyreCEYr|  7125|Ll3ZUxnh*9|           0|        0|                         1|           4236|1979-03-05|      4176|       5476| 1989-06-20|        9010|         5698|     1|NULL|\n",
      "|      3|  NULL|     NULL|     David|    King|  NULL|                NULL|     D|Fri, 1994-04-08|bxGxufoNzpKvjwNIxgRj|iPUtgXtqIBEaxQxaMMsr|                NULL|               NULL|    NULL|UAWXnALxxBXmwbPibFdw|  5202|&@sU8IaE+L|           1|        0|                         1|           1263|2008-08-22|      4702|       8239| 2020-06-05|        8837|         1175|     1|NULL|\n",
      "|      4|   Ms.|     Mark|     Gregg|    NULL|  NULL|                NULL|     J|           NULL|                NULL|pFxPMIlwpLmWhylhVPlq|                NULL|  8.2333244765424E9|  google|                NULL|  1591|5vVPwqxK)g|           0|        0|                         0|            949|1984-04-29|      7096|       7875| 2012-01-31|        7529|         3984|     1|NULL|\n",
      "|      5|  NULL|     NULL|     Logan|    NULL|   DDS|ArvPJuEozHPaqbirovMi|     D|Sun, 2008-08-10|kXKlKCyCBoXUBVejPOVO|                NULL|QpESbZrLQlRIjKabyAKb|               NULL|    NULL|                NULL|  4578|S%3cXL#sKt|           1|        0|                         0|           7126|2007-07-19|       706|       5727| 1971-04-27|        9356|         6062|     1|NULL|\n",
      "+-------+------+---------+----------+--------+------+--------------------+------+---------------+--------------------+--------------------+--------------------+-------------------+--------+--------------------+------+----------+------------+---------+--------------------------+---------------+----------+----------+-----------+-----------+------------+-------------+------+----+\n",
      "only showing top 5 rows\n",
      "\n",
      "+-------------+-------+------------------+----------+--------------------+--------------------+-----------+--------------------+--------------------+----------+-----------+--------------------+------------+-------------+------+----+\n",
      "|cons_email_id|cons_id|cons_email_type_id|is_primary|               email|canonical_local_part|     domain|   double_validation|           create_dt|create_app|create_user|         modified_dt|modified_app|modified_user|status|note|\n",
      "+-------------+-------+------------------+----------+--------------------+--------------------+-----------+--------------------+--------------------+----------+-----------+--------------------+------------+-------------+------+----+\n",
      "|            1| 548198|              3361|         1|xmartinez@vincent...|                NULL|  gmail.com|                NULL|Wed, 1994-01-26 2...|      4072|       9954|Sat, 2014-04-19 1...|        1990|         7595|     1|NULL|\n",
      "|            2| 491137|              2474|         1|  hmiller@haynes.biz|jqCyozTDojYuylQPTHfm|hotmail.com|                NULL|Thu, 1999-12-09 0...|      1600|       5716|Sat, 1984-07-14 0...|        4686|         3248|     1|NULL|\n",
      "|            3| 413429|              5175|         1|   aaron64@yahoo.com|FCBeBiVoqnnKDWjnllhN|  yahoo.com|kRLZexQEwYIMbwFNvQxg|Wed, 1992-11-18 1...|      7358|       2685|Sun, 1995-12-24 1...|        3857|         7405|     1|NULL|\n",
      "|            4| 347346|              4117|         1|wyattvincent@hotm...|                NULL|  gmail.com|zSbfmlqXimGyWVBUGdQg|Sat, 1983-11-26 1...|       881|       3444|Sun, 1975-01-19 1...|        8713|         7713|     1|NULL|\n",
      "|            5| 443000|              6781|         1|tspencer@hotmail.com|VaQIYlKcUkIywkKKEptD|  gmail.com|                NULL|Wed, 2000-11-15 1...|      5380|       5456|Sun, 1994-03-13 1...|         765|         8618|     1|NULL|\n",
      "+-------------+-------+------------------+----------+--------------------+--------------------+-----------+--------------------+--------------------+----------+-----------+--------------------+------------+-------------+------+----+\n",
      "only showing top 5 rows\n",
      "\n",
      "+----------------------------------+-------------+----------+-------+--------------------+--------------------+\n",
      "|cons_email_chapter_subscription_id|cons_email_id|chapter_id|isunsub|            unsub_dt|         modified_dt|\n",
      "+----------------------------------+-------------+----------+-------+--------------------+--------------------+\n",
      "|                                 1|       332188|         1|      1|Sat, 1971-06-12 1...|Thu, 1990-06-28 1...|\n",
      "|                                 2|       536526|         1|      1|Wed, 2006-07-12 0...|Thu, 1979-09-20 0...|\n",
      "|                                 3|       134711|         1|      1|Tue, 1987-01-06 1...|Sun, 1974-03-03 1...|\n",
      "|                                 4|       660345|         1|      1|Sat, 2016-08-06 1...|Wed, 1995-09-13 2...|\n",
      "|                                 5|       184268|         1|      1|Sun, 2000-05-28 0...|Sat, 1983-12-10 0...|\n",
      "+----------------------------------+-------------+----------+-------+--------------------+--------------------+\n",
      "only showing top 5 rows\n",
      "\n"
     ]
    }
   ],
   "source": [
    "# Loading datasets using Spark\n",
    "cons_df = spark.read.csv('./Raw_Data/cons.csv', header=True, inferSchema=True)\n",
    "\n",
    "# Extract just the date part (yyyy-MM-dd) from the custom format (e.g., 'Mon, 2021-01-01 10:00:00')\n",
    "# We are extracting characters from index 6 to 15 to get the date in 'yyyy-MM-dd' format\n",
    "cons_df = cons_df.withColumn('create_dt', substring('create_dt', 6, 10))\n",
    "\n",
    "# Convert 'create_dt' to date type after extracting the relevant portion\n",
    "cons_df = cons_df.withColumn('create_dt', to_date(col('create_dt'), 'yyyy-MM-dd'))\n",
    "\n",
    "# Similarly for 'modified_dt' if needed\n",
    "cons_df = cons_df.withColumn('modified_dt', substring('modified_dt', 6, 10))\n",
    "cons_df = cons_df.withColumn('modified_dt', to_date(col('modified_dt'), 'yyyy-MM-dd'))\n",
    "\n",
    "# Check if the conversion worked correctly\n",
    "cons_df.printSchema()\n",
    "cons_df.show(5)\n",
    "email_df = spark.read.csv('./Raw_Data/cons_email.csv', header=True, inferSchema=True)\n",
    "subscription_df = spark.read.csv('./Raw_Data/cons_email_chapter_subscription.csv', header=True, inferSchema=True)\n",
    "\n",
    "# Displaying first few rows of each dataframe\n",
    "cons_df.show(5)\n",
    "email_df.show(5)\n",
    "subscription_df.show(5)"
   ]
  },
  {
   "cell_type": "markdown",
   "metadata": {},
   "source": [
    "### Data Preprocessing"
   ]
  },
  {
   "cell_type": "markdown",
   "metadata": {},
   "source": [
    "### Excercise 1"
   ]
  },
  {
   "cell_type": "code",
   "execution_count": 5,
   "metadata": {},
   "outputs": [
    {
     "name": "stdout",
     "output_type": "stream",
     "text": [
      "root\n",
      " |-- email: string (nullable = true)\n",
      " |-- code: string (nullable = true)\n",
      " |-- is_unsub: boolean (nullable = false)\n",
      " |-- created_dt: date (nullable = true)\n",
      " |-- updated_dt: date (nullable = true)\n",
      "\n"
     ]
    },
    {
     "name": "stderr",
     "output_type": "stream",
     "text": [
      "                                                                                \r"
     ]
    }
   ],
   "source": [
    "# Filter subscription status for chapter_id = 1\n",
    "subscription_df = subscription_df.filter(subscription_df.chapter_id == 1)\n",
    "\n",
    "# Join email and subscription data on 'cons_email_id'\n",
    "merged_df = email_df.join(subscription_df, on='cons_email_id', how='left')\n",
    "\n",
    "# Fill null values in 'isunsub' with 0 (indicating they are still subscribed)\n",
    "merged_df = merged_df.fillna({'isunsub': 0})\n",
    "\n",
    "# Filter for primary emails (where 'is_primary' == 1)\n",
    "primary_emails = merged_df.filter(merged_df.is_primary == 1)\n",
    "\n",
    "# Join with cons_df on 'cons_id' and rename ambiguous columns\n",
    "people_df = primary_emails.join(\n",
    "    cons_df.withColumnRenamed('create_dt', 'cons_create_dt').withColumnRenamed('modified_dt', 'cons_modified_dt'), \n",
    "    on='cons_id', \n",
    "    how='inner'\n",
    ")\n",
    "\n",
    "# Convert 'cons_create_dt' and 'cons_modified_dt' to date format\n",
    "people_df = people_df.withColumn('created_dt', to_date(people_df['cons_create_dt'], 'yyyy-MM-dd'))\n",
    "people_df = people_df.withColumn('updated_dt', to_date(people_df['cons_modified_dt'], 'yyyy-MM-dd'))\n",
    "\n",
    "# Select the necessary columns for the 'people' file:\n",
    "people_df = people_df.select(\n",
    "    'email', \n",
    "    col('source').alias('code'),  # Correct the alias for source\n",
    "    col('isunsub').cast('boolean').alias('is_unsub'),  # Ensure isunsub is referenced correctly and cast to boolean\n",
    "    'created_dt', \n",
    "    'updated_dt'\n",
    ")\n",
    "\n",
    "# Check if the conversion worked correctly\n",
    "people_df.printSchema()\n",
    "\n",
    "# Save the people file to CSV\n",
    "people_df.write.csv('./Output/people', header=True)\n"
   ]
  },
  {
   "cell_type": "markdown",
   "metadata": {},
   "source": [
    "### Excercise 2"
   ]
  },
  {
   "cell_type": "code",
   "execution_count": 6,
   "metadata": {},
   "outputs": [
    {
     "name": "stderr",
     "output_type": "stream",
     "text": [
      "                                                                                \r"
     ]
    }
   ],
   "source": [
    "# Group by acquisition date (using 'created_dt') and count the number of acquisitions\n",
    "acquisition_facts_df = people_df.groupBy(date_format('created_dt', 'yyyy-MM-dd').alias('acquisition_date')) \\\n",
    "    .count().alias('acquisitions')\n",
    "\n",
    "# Save the acquisition facts to CSV\n",
    "acquisition_facts_df.write.csv('Output/acquisition_facts', header=True)"
   ]
  },
  {
   "cell_type": "code",
   "execution_count": 7,
   "metadata": {},
   "outputs": [],
   "source": [
    "# Stop the Spark session\n",
    "spark.stop() "
   ]
  }
 ],
 "metadata": {
  "kernelspec": {
   "display_name": "base",
   "language": "python",
   "name": "python3"
  },
  "language_info": {
   "codemirror_mode": {
    "name": "ipython",
    "version": 3
   },
   "file_extension": ".py",
   "mimetype": "text/x-python",
   "name": "python",
   "nbconvert_exporter": "python",
   "pygments_lexer": "ipython3",
   "version": "3.11.5"
  }
 },
 "nbformat": 4,
 "nbformat_minor": 2
}
